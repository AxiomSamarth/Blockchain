{
 "cells": [
  {
   "cell_type": "markdown",
   "metadata": {},
   "source": [
    "<h1>Simple Blockchain Implementation</h1>\n",
    "<p>This tutorial will walk you through the implementation of blockchain.</p>\n",
    "<p><strong>Blockchain</strong> it’s a public database where new data are stored in a container called a block and are added to an immutable chain (hence blockchain) with data added in the past.</p>\n",
    "<p>Now let's first import the required libraries.</p>"
   ]
  },
  {
   "cell_type": "code",
   "execution_count": 1,
   "metadata": {},
   "outputs": [],
   "source": [
    "import hashlib as hasher\n",
    "import datetime as date"
   ]
  },
  {
   "cell_type": "markdown",
   "metadata": {},
   "source": [
    "<h3>Let's define how a block would look like - Create a class!</h3>\n",
    "<p>In this tutorial, let us consider that the block is going to have an index, a timestamp indicating when it was created, the data and the previous hash value.</p>"
   ]
  },
  {
   "cell_type": "code",
   "execution_count": 2,
   "metadata": {},
   "outputs": [],
   "source": [
    "# Define what a cryptocoin block is\n",
    "class Block:\n",
    "  def __init__(self, index, timestamp, data, previous_hash):\n",
    "    self.index = index\n",
    "    self.timestamp = timestamp\n",
    "    self.data = data\n",
    "    self.previous_hash = previous_hash\n",
    "    self.hash = self.hash_block()\n",
    "  \n",
    "  def hash_block(self):\n",
    "    sha = hasher.sha256()\n",
    "    sha.update(str(self.index).encode('utf-8') + str(self.timestamp).encode('utf-8') + str(self.data).encode('utf-8') + str(self.previous_hash).encode('utf-8'))\n",
    "    return sha.hexdigest()"
   ]
  },
  {
   "cell_type": "markdown",
   "metadata": {},
   "source": [
    "<h3>How the first ever block gets created & how the consecutive blocks get created?</h3>\n",
    "<p>The first block in the immutable database is always manually created with some logic and therefter the blockchain method of appending &amp; hashing is employed. Here, in this tutorial, let us assume that the logic for creating the first bloack is to index it as 0.</p>\n",
    "<p>Let us define the two methods. One for generating the first block and other to generate the consecutive blocks.</p>"
   ]
  },
  {
   "cell_type": "code",
   "execution_count": 3,
   "metadata": {},
   "outputs": [],
   "source": [
    "# Generate genesis block\n",
    "def create_genesis_block():\n",
    "  # Manually construct a block with\n",
    "  # index zero and arbitrary previous hash\n",
    "  return Block(0, date.datetime.now(), \"Genesis Block\", \"0\")\n",
    "\n",
    "# Generate all later blocks in the blockchain\n",
    "def next_block(last_block):\n",
    "  this_index = last_block.index + 1\n",
    "  this_timestamp = date.datetime.now()\n",
    "  this_data = \"Hey! I'm block \" + str(this_index)\n",
    "  this_hash = last_block.hash\n",
    "  return Block(this_index, this_timestamp, this_data, this_hash)"
   ]
  },
  {
   "cell_type": "markdown",
   "metadata": {},
   "source": [
    "<h3>Game time!</h3>\n",
    "<p>Now that all the heavy lifting is done, let's add some 20 blocks to chain and see how it works!</p>"
   ]
  },
  {
   "cell_type": "code",
   "execution_count": 4,
   "metadata": {
    "scrolled": true
   },
   "outputs": [
    {
     "name": "stdout",
     "output_type": "stream",
     "text": [
      "Block #1 has been added to the blockchain!\n",
      "Hash: d8826c2b0996b19e7f1bfbbf214afe29fa4ce98fa186d33e9e01798bc075f550\n",
      "\n",
      "Block #2 has been added to the blockchain!\n",
      "Hash: 51b459e785d12e10108348014dd337315df8d046a13d5e3f53c582ddd189320c\n",
      "\n",
      "Block #3 has been added to the blockchain!\n",
      "Hash: 87613ebbde97d807a90cf9a46b08b1b55c88f4e6bd3415a7fa86e24dae66b5a2\n",
      "\n",
      "Block #4 has been added to the blockchain!\n",
      "Hash: 70637377d5fdd0b4aaa8bbf23fc0103640e9b9fa46a5ce6e51595f44d087e83a\n",
      "\n",
      "Block #5 has been added to the blockchain!\n",
      "Hash: 44368403a141447440675ef24ebb4bebc8e47ae829cee32e051131e33cba5043\n",
      "\n",
      "Block #6 has been added to the blockchain!\n",
      "Hash: 8fccc1c973ef608932c597bf01bdbcc22acfdefc85a3f2eeac267bf6d4467c92\n",
      "\n",
      "Block #7 has been added to the blockchain!\n",
      "Hash: cf643f41046a26d3a1dbd71284b8618af9c04e60a94536bffc0f7394e72e7836\n",
      "\n",
      "Block #8 has been added to the blockchain!\n",
      "Hash: 1c138b02fce1c959f1f91ece8110807e2d46c5754161250966b137a8787f155d\n",
      "\n",
      "Block #9 has been added to the blockchain!\n",
      "Hash: 5dd4b0c8e2315e886ab6efe136ce5319823287ce51b734d9a4b2f2b73cbd2c18\n",
      "\n",
      "Block #10 has been added to the blockchain!\n",
      "Hash: 7a0f9e9848a223036eb5e7edaeb01cca75fdea8d41eb35cc4729ee4b5dfd0e5d\n",
      "\n",
      "Block #11 has been added to the blockchain!\n",
      "Hash: 338754cd7e9c6842314d44917bbc4e62f50a7b4e694a87a9f3019518fca94921\n",
      "\n",
      "Block #12 has been added to the blockchain!\n",
      "Hash: 1da6de559fde1bd0ebc0e933e88820c7a4e60653a48d4472a57598135a17ca7d\n",
      "\n",
      "Block #13 has been added to the blockchain!\n",
      "Hash: a4da74de9b6bc390a5c841e1eb67f8611b433535085b3f61169eaa485379cf91\n",
      "\n",
      "Block #14 has been added to the blockchain!\n",
      "Hash: 6131f9f2a9202e3a25a49da35fbbc79f590e9b349a6bb7b025f8345f1a15e6fb\n",
      "\n",
      "Block #15 has been added to the blockchain!\n",
      "Hash: f9d78747dde5fe8ad72cfd32b245a9e48f903305afedfd6672900938ec1f08e1\n",
      "\n",
      "Block #16 has been added to the blockchain!\n",
      "Hash: dab7068b859d5ba6ca55aa745ddd8602da5eda9b7512880e55830431311fb8ff\n",
      "\n",
      "Block #17 has been added to the blockchain!\n",
      "Hash: cdf32ee34c231487c3a64605853de64d0ded866eec64f320ca1c7023075f21ab\n",
      "\n",
      "Block #18 has been added to the blockchain!\n",
      "Hash: 1e9e241bf7f55d2679281f45e35b3d55f6cc011aad8dda634b824b95735de0b8\n",
      "\n",
      "Block #19 has been added to the blockchain!\n",
      "Hash: 864b08b4be62ce06e7c3a0a3725595dd11a0250abb0e3cf2a2b4f79ce61be5ea\n",
      "\n",
      "Block #20 has been added to the blockchain!\n",
      "Hash: ffbb13efb2e334c1af1ee2d2f57be7104b499901661a81a5bc6eafadab747f8e\n",
      "\n"
     ]
    }
   ],
   "source": [
    "# Create the blockchain and add the genesis block\n",
    "blockchain = [create_genesis_block()]\n",
    "previous_block = blockchain[0]\n",
    "\n",
    "# How many blocks should we add to the chain\n",
    "# after the genesis block\n",
    "num_of_blocks_to_add = 20\n",
    "\n",
    "# Add blocks to the chain\n",
    "for i in range(0, num_of_blocks_to_add):\n",
    "  block_to_add = next_block(previous_block)\n",
    "  blockchain.append(block_to_add)\n",
    "  previous_block = block_to_add\n",
    "  # Tell everyone about it!\n",
    "  print(\"Block #{} has been added to the blockchain!\".format(block_to_add.index))\n",
    "  print(\"Hash: {}\\n\".format(block_to_add.hash))\n",
    "    "
   ]
  },
  {
   "cell_type": "markdown",
   "metadata": {},
   "source": [
    "<h1>Yayy! That works!</h1>"
   ]
  },
  {
   "cell_type": "code",
   "execution_count": null,
   "metadata": {},
   "outputs": [],
   "source": []
  }
 ],
 "metadata": {
  "kernelspec": {
   "display_name": "Python 3",
   "language": "python",
   "name": "python3"
  },
  "language_info": {
   "codemirror_mode": {
    "name": "ipython",
    "version": 3
   },
   "file_extension": ".py",
   "mimetype": "text/x-python",
   "name": "python",
   "nbconvert_exporter": "python",
   "pygments_lexer": "ipython3",
   "version": "3.5.4"
  }
 },
 "nbformat": 4,
 "nbformat_minor": 2
}
