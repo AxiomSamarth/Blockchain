{
 "cells": [
  {
   "cell_type": "markdown",
   "metadata": {},
   "source": [
    "<h1>Simple Blockchain Implementation</h1>\n",
    "<p>This tutorial will walk you through the implementation of blockchain theory.</p>\n",
    "<p><strong>Blockchain</strong> it’s a public database where new data are stored in a container called a block and are added to an immutable chain (hence blockchain) with data added in the past.</p>\n",
    "<p>Now let's first import the required libraries.</p>"
   ]
  },
  {
   "cell_type": "code",
   "execution_count": 8,
   "metadata": {},
   "outputs": [],
   "source": [
    "import hashlib as hasher\n",
    "import datetime as date"
   ]
  },
  {
   "cell_type": "markdown",
   "metadata": {},
   "source": [
    "<h3>Let's define how a block would look like - Create a class!</h3>\n",
    "<p>In this tutorial, let us consider that the block is going to have an index, a timestamp indicating when it was created, the data and the previous hash value.</p>"
   ]
  },
  {
   "cell_type": "code",
   "execution_count": 9,
   "metadata": {},
   "outputs": [],
   "source": [
    "#Let us define what a block in a blockchain looks like\n",
    "class Block:\n",
    "    def __init__(self, index, timestamp, data, previous_hash):\n",
    "        self.index = index\n",
    "        self.timestamp = timestamp\n",
    "        self.data = data\n",
    "        self.previous_hash = previous_hash\n",
    "        self.hash = self.hash_block()\n",
    "        \n",
    "    def hash_block(self):\n",
    "        sha = hasher.sha256()\n",
    "        sha.update(str(self.index).encode('utf-8') + str(self.timestamp).encode('utf-8') + str(self.data).encode('utf-8') + str(self.previous_hash).encode('utf-8'))\n",
    "        return sha.hexdigest()"
   ]
  },
  {
   "cell_type": "markdown",
   "metadata": {},
   "source": [
    "<h3>How the first ever block gets created & how the consecutive blocks get created?</h3>\n",
    "<p>The first block in the immutable database is always manually created with some logic and therefter the blockchain method of appending &amp; hashing is employed. Here, in this tutorial, let us assume that the logic for creating the first block is to index it as 0.</p>\n",
    "<p>Let us define the two methods. One for generating the first block and other to generate the consecutive blocks.</p>"
   ]
  },
  {
   "cell_type": "code",
   "execution_count": 10,
   "metadata": {},
   "outputs": [],
   "source": [
    "def create_genesis_block():\n",
    "    return Block(0, date.datetime.now(), \"First block\", \"0\")\n",
    "\n",
    "def next_block(last_block):\n",
    "    new_index = last_block.index + 1\n",
    "    new_timestamp = date.datetime.now()\n",
    "    new_data = \"Hey, I am block \" + str(new_index) \n",
    "    new_hash = last_block.hash\n",
    "    return Block(new_index, new_timestamp, new_data, new_hash)"
   ]
  },
  {
   "cell_type": "markdown",
   "metadata": {},
   "source": [
    "<h3>Game time!</h3>\n",
    "<p>Now that all the heavy lifting is done, let's add some 20 blocks to chain and see how it works!</p>"
   ]
  },
  {
   "cell_type": "code",
   "execution_count": 15,
   "metadata": {},
   "outputs": [
    {
     "name": "stdout",
     "output_type": "stream",
     "text": [
      "21\n"
     ]
    }
   ],
   "source": [
    "# Create a blockchain and add the genesis block\n",
    "blockchain = [create_genesis_block()]\n",
    "previous_block = blockchain[0]\n",
    "\n",
    "# Add some 20 blocks to my blockchain\n",
    "for i in range(0, 20):\n",
    "    block_to_add = next_block(previous_block)\n",
    "    blockchain.append(block_to_add)\n",
    "    previous_block = block_to_add\n",
    "    \n",
    "    # prin the blocks on the screen\n",
    "    #print(\"Block #{} has been added!\".format(block_to_add.index))\n",
    "    #print(\"Hash: {}\\n\".format(block_to_add.hash))\n",
    "    \n",
    "print(len(blockchain))"
   ]
  },
  {
   "cell_type": "code",
   "execution_count": null,
   "metadata": {},
   "outputs": [],
   "source": []
  }
 ],
 "metadata": {
  "kernelspec": {
   "display_name": "Python 3",
   "language": "python",
   "name": "python3"
  },
  "language_info": {
   "codemirror_mode": {
    "name": "ipython",
    "version": 3
   },
   "file_extension": ".py",
   "mimetype": "text/x-python",
   "name": "python",
   "nbconvert_exporter": "python",
   "pygments_lexer": "ipython3",
   "version": "3.5.4"
  }
 },
 "nbformat": 4,
 "nbformat_minor": 2
}
